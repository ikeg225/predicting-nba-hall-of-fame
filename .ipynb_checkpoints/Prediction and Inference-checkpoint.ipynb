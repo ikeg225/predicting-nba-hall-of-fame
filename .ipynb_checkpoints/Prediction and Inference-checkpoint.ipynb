{
 "cells": [
  {
   "cell_type": "code",
   "execution_count": 2,
   "metadata": {},
   "outputs": [],
   "source": [
    "import numpy as np\n",
    "import pandas as pd\n",
    "import seaborn as sns\n",
    "import matplotlib.pyplot as plt"
   ]
  },
  {
   "cell_type": "code",
   "execution_count": 3,
   "metadata": {},
   "outputs": [],
   "source": [
    "stats = pd.read_csv('stats.csv')\n",
    "regular_stats = pd.read_csv('regular-season-stats.csv')"
   ]
  },
  {
   "cell_type": "code",
   "execution_count": 4,
   "metadata": {},
   "outputs": [],
   "source": [
    "pd.set_option('display.max_columns', None)"
   ]
  },
  {
   "cell_type": "code",
   "execution_count": 32,
   "metadata": {},
   "outputs": [],
   "source": [
    "def szn_df(season):\n",
    "    szn = regular_stats[regular_stats[\"Season\"] == season].fillna(0)\n",
    "    szn_star = szn[\"All Star\"]\n",
    "    szn = szn.drop(columns=[\"Player Name\", \"Season\", \"All Star\", \"League\", \"Hall of Fame\", \"Lifetime Achievement Induction\", \"Last Season Played\"])\n",
    "    \n",
    "    # One Hot Encode Position\n",
    "    szn = pd.concat([szn, pd.get_dummies(szn['Position'], drop_first=True)], axis=1).drop(columns=[\"Position\"])\n",
    "    return szn, szn_star\n",
    "\n",
    "# Use the 2019-20 season to train the model and 2020-21 to test the naive model\n",
    "szn19to20, szn19to20_star = szn_df(\"2019-20\")\n",
    "szn20to21, szn20to21_star = szn_df(\"2020-21\")\n"
   ]
  },
  {
   "cell_type": "code",
   "execution_count": 40,
   "metadata": {},
   "outputs": [
    {
     "data": {
      "text/plain": [
       "(0.97677793904209, 0.7142857142857142)"
      ]
     },
     "execution_count": 40,
     "metadata": {},
     "output_type": "execute_result"
    }
   ],
   "source": [
    "from sklearn.linear_model import LogisticRegression\n",
    "from sklearn.ensemble import RandomForestClassifier\n",
    "from sklearn.metrics import f1_score\n",
    "\n",
    "model = RandomForestClassifier()\n",
    "model.fit(szn19to20, szn19to20_star)\n",
    "\n",
    "predictions = model.predict(szn20to21)\n",
    "np.sum(predictions == szn20to21_star) / len(szn20to21_star), f1_score(szn20to21_star, predictions)"
   ]
  },
  {
   "cell_type": "code",
   "execution_count": null,
   "metadata": {},
   "outputs": [],
   "source": []
  }
 ],
 "metadata": {
  "kernelspec": {
   "display_name": "Python 3",
   "language": "python",
   "name": "python3"
  },
  "language_info": {
   "codemirror_mode": {
    "name": "ipython",
    "version": 3
   },
   "file_extension": ".py",
   "mimetype": "text/x-python",
   "name": "python",
   "nbconvert_exporter": "python",
   "pygments_lexer": "ipython3",
   "version": "3.8.5"
  }
 },
 "nbformat": 4,
 "nbformat_minor": 4
}
